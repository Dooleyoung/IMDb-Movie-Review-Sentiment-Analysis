{
 "cells": [
  {
   "cell_type": "markdown",
   "id": "37d366fd-3c26-4733-be6e-21bad8d7cde3",
   "metadata": {},
   "source": [
    "<h1>IMDb Movie Review Sentiment Analysis</h1>\r\n",
    "\r\n",
    "## Section 1: Data Acquisition\r\n",
    "In this section, we fetch movie reviews using IMDbPY."
   ]
  },
  {
   "cell_type": "code",
   "execution_count": 17,
   "id": "65dce972-eeea-4aed-aeae-0ba36cfbfc4e",
   "metadata": {},
   "outputs": [],
   "source": [
    "from imdb import IMDb\n",
    "\n",
    "def fetch_movie_reviews(movie_title):\n",
    "    \"\"\"\n",
    "    Fetches movie reviews using IMDbPY.\n",
    "\n",
    "    Args:\n",
    "    - movie_title (str): The title of the movie to fetch reviews for.\n",
    "\n",
    "    Returns:\n",
    "    - reviews: List of movie reviews.\n",
    "    \"\"\"\n",
    "    ia = IMDb()\n",
    "    movies = ia.search_movie(movie_title)\n",
    "\n",
    "    if not movies:\n",
    "        return None  # Movie not found\n",
    "\n",
    "    movie_id = movies[0].movieID\n",
    "    movie = ia.get_movie(movie_id)\n",
    "    ia.update(movie, 'reviews')\n",
    "\n",
    "    reviews = movie.get('reviews')\n",
    "    \n",
    "    return reviews\n",
    "\n",
    "# Fetching reviews for a movie\n",
    "movie_title = \"The Dark Knight\"\n",
    "fetched_reviews = fetch_movie_reviews(movie_title)\n"
   ]
  },
  {
   "cell_type": "markdown",
   "id": "bd99ca52-2628-4e57-9991-bbaa0d2efd6e",
   "metadata": {},
   "source": [
    "<h2>Section 2: Data Processing and Cleaning</h2>\r\n",
    "We clean the reviews by removing HTML tags and special characters"
   ]
  },
  {
   "cell_type": "code",
   "execution_count": 19,
   "id": "c823580c-6d6b-4e6c-8a81-c27079e258f4",
   "metadata": {},
   "outputs": [],
   "source": [
    "from bs4 import BeautifulSoup\n",
    "import re\n",
    "\n",
    "def clean_reviews(reviews):\n",
    "    \"\"\"\n",
    "    Cleans the fetched reviews.\n",
    "\n",
    "    Args:\n",
    "    - reviews: List of movie reviews.\n",
    "\n",
    "    Returns:\n",
    "    - cleaned_reviews: List of cleaned movie reviews.\n",
    "    \"\"\"\n",
    "    cleaned_reviews = []\n",
    "    for review in reviews:\n",
    "        review_text = review['content']\n",
    "        clean_text = BeautifulSoup(review_text, \"html.parser\").get_text()\n",
    "        clean_text = re.sub(r'[^a-zA-Z\\s]', '', clean_text)\n",
    "        clean_text = clean_text.lower()\n",
    "        cleaned_reviews.append(clean_text)\n",
    "    return cleaned_reviews\n",
    "\n",
    "# Cleaning fetched reviews\n",
    "cleaned_reviews = clean_reviews(fetched_reviews)\n"
   ]
  },
  {
   "cell_type": "markdown",
   "id": "adb2e973-de41-42ee-b5e9-41ca5fc51fde",
   "metadata": {},
   "source": [
    "<h2>Section 3: Sentiment Analysis Implementation</h2>\r\n",
    "We use TextBlob for sentiment analysis on the cleaned reviews."
   ]
  },
  {
   "cell_type": "code",
   "execution_count": 20,
   "id": "da693bc4-4848-44c1-ac90-1e365ee12850",
   "metadata": {},
   "outputs": [],
   "source": [
    "from textblob import TextBlob\n",
    "\n",
    "def analyze_sentiment(reviews):\n",
    "    \"\"\"\n",
    "    Performs sentiment analysis on cleaned reviews.\n",
    "\n",
    "    Args:\n",
    "    - reviews: List of cleaned movie reviews.\n",
    "\n",
    "    Returns:\n",
    "    - sentiments: List of sentiments (Positive, Negative, Neutral).\n",
    "    \"\"\"\n",
    "    sentiments = []\n",
    "    for review in reviews:\n",
    "        analysis = TextBlob(review)\n",
    "        if analysis.sentiment.polarity > 0:\n",
    "            sentiments.append('Positive')\n",
    "        elif analysis.sentiment.polarity < 0:\n",
    "            sentiments.append('Negative')\n",
    "        else:\n",
    "            sentiments.append('Neutral')\n",
    "    return sentiments\n",
    "\n",
    "# Analyzing sentiment of cleaned reviews\n",
    "sentiments = analyze_sentiment(cleaned_reviews)\n"
   ]
  },
  {
   "cell_type": "markdown",
   "id": "05ca76e5-0304-4d21-9a02-fc6aa6b7a775",
   "metadata": {},
   "source": [
    "<h2>Section 4: Results Visualization</h2>\n",
    "We visualize the sentiment distribution using Matplotlib."
   ]
  },
  {
   "cell_type": "code",
   "execution_count": 21,
   "id": "268f014f-7028-49a3-a279-bc0cb4491faf",
   "metadata": {},
   "outputs": [
    {
     "data": {
      "image/png": "[encoded data removed]",
      "text/plain": [
       "<Figure size 600x600 with 1 Axes>"
      ]
     },
     "metadata": {},
     "output_type": "display_data"
    }
   ],
   "source": [
    "import matplotlib.pyplot as plt\n",
    "import pandas as pd\n",
    "\n",
    "def visualize_sentiment(sentiments):\n",
    "    \"\"\"\n",
    "    Visualizes sentiment distribution of reviews.\n",
    "\n",
    "    Args:\n",
    "    - sentiments: List of sentiments (Positive, Negative, Neutral).\n",
    "    \"\"\"\n",
    "    sentiment_counts = pd.Series(sentiments).value_counts()\n",
    "    plt.figure(figsize=(6, 6))\n",
    "    plt.pie(sentiment_counts, labels=sentiment_counts.index, autopct='%1.1f%%', startangle=140)\n",
    "    plt.axis('equal')  \n",
    "    plt.title('Sentiment Distribution of Movie Reviews')\n",
    "    plt.show()\n",
    "\n",
    "# Visualizing sentiment distribution\n",
    "visualize_sentiment(sentiments)\n"
   ]
  },
  {
   "cell_type": "markdown",
   "id": "27484057-dcd8-480c-8ec3-14215a086f7e",
   "metadata": {},
   "source": [
    "<h2>Project Explanation: IMDb Movie Review Sentiment Analysis</h2>"
   ]
  },
  {
   "cell_type": "markdown",
   "id": "bf12f224-db59-43d6-a29e-d35f2c7d1242",
   "metadata": {},
   "source": [
    "<h3>Introduction</h3>\r\n",
    "This project aims to conduct sentiment analysis on movie reviews fetched from IMDb using IMDbPY and analyze the sentiment distribution. Sentiment analysis helps understand the opinions, emotions, and attitudes expressed in textual data. The selected movie for this analysis is \"The Dark Knight. about the movie."
   ]
  },
  {
   "cell_type": "markdown",
   "id": "52c5654c-dab7-4f93-ae18-3d70ab69304d",
   "metadata": {},
   "source": [
    "<h3>Methodology</h3>"
   ]
  },
  {
   "cell_type": "markdown",
   "id": "a73a3133-5ff7-42b7-b702-471d8f148d09",
   "metadata": {},
   "source": [
    "<h4>Data Acquisition</h4>\r\n",
    "The IMDbPY library is utilized to search for the movie by title and fetch its reviews. If the movie is found, its reviews are collected for analysis."
   ]
  },
  {
   "cell_type": "markdown",
   "id": "09292845-f5a0-4959-aec2-9e4189b9a16f",
   "metadata": {},
   "source": [
    "<h4>Data Cleaning</h4>\r\n",
    "The fetched reviews contain HTML tags and unwanted characters. Beautiful Soup is employed to remove HTML tags, and regular expressions are used to clean the text by eliminating special characters and converting it to lowercase for consistency."
   ]
  },
  {
   "cell_type": "markdown",
   "id": "c3cf2333-5eb6-4353-a45a-cad4745c5b69",
   "metadata": {},
   "source": [
    "<h4>Sentiment Analysis</h4>\r\n",
    "TextBlob, a natural language processing library, is employed for sentiment analysis. Each cleaned review is processed, and sentiment polarity is assessed. Reviews are categorized as positive, negative, or neutral based on their polarity scores."
   ]
  },
  {
   "cell_type": "markdown",
   "id": "2314911c-9e38-4a17-88b8-167dffacffa0",
   "metadata": {},
   "source": [
    "<h4>Results Visualization</h4>\r\n",
    "The sentiments identified in the reviews are visualized using a pie chart generated with Matplotlib. The pie chart showcases the distribution of positive, negative, and neutral sentiments among the movie reviews."
   ]
  },
  {
   "cell_type": "markdown",
   "id": "320f48a7-c54b-48be-8d31-53dbeb822189",
   "metadata": {},
   "source": [
    "<h3>Conclusion</h3>\r\n",
    "This project provides insights into the overall sentiments expressed by IMDb reviewers for the movie \"The Dark Knight.\" By examining sentiment distributions, it helps in understanding the general emotional tone conveyed in the reviews, aiding in assessing audience opinions about the movie."
   ]
  },
  {
   "cell_type": "code",
   "execution_count": null,
   "id": "f7340724-d558-4870-8781-a8e1768231a9",
   "metadata": {},
   "outputs": [],
   "source": []
  }
 ],
 "metadata": {
  "kernelspec": {
   "display_name": "Python 3 (ipykernel)",
   "language": "python",
   "name": "python3"
  },
  "language_info": {
   "codemirror_mode": {
    "name": "ipython",
    "version": 3
   },
   "file_extension": ".py",
   "mimetype": "text/x-python",
   "name": "python",
   "nbconvert_exporter": "python",
   "pygments_lexer": "ipython3",
   "version": "3.10.11"
  }
 },
 "nbformat": 4,
 "nbformat_minor": 5
}
